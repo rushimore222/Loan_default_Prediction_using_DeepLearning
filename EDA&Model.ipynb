{
 "cells": [
  {
   "cell_type": "code",
   "execution_count": 1,
   "id": "5a4ed31f-d154-4398-b609-44448a8d6941",
   "metadata": {
    "scrolled": true
   },
   "outputs": [
    {
     "name": "stdout",
     "output_type": "stream",
     "text": [
      "<class 'pandas.core.frame.DataFrame'>\n",
      "RangeIndex: 32581 entries, 0 to 32580\n",
      "Data columns (total 12 columns):\n",
      " #   Column                      Non-Null Count  Dtype  \n",
      "---  ------                      --------------  -----  \n",
      " 0   person_age                  32581 non-null  int64  \n",
      " 1   person_income               32581 non-null  int64  \n",
      " 2   person_home_ownership       32581 non-null  object \n",
      " 3   person_emp_length           31686 non-null  float64\n",
      " 4   loan_intent                 32581 non-null  object \n",
      " 5   loan_grade                  32581 non-null  object \n",
      " 6   loan_amnt                   32581 non-null  int64  \n",
      " 7   loan_int_rate               29465 non-null  float64\n",
      " 8   loan_status                 32581 non-null  int64  \n",
      " 9   loan_percent_income         32581 non-null  float64\n",
      " 10  cb_person_default_on_file   32581 non-null  object \n",
      " 11  cb_person_cred_hist_length  32581 non-null  int64  \n",
      "dtypes: float64(3), int64(5), object(4)\n",
      "memory usage: 3.0+ MB\n"
     ]
    },
    {
     "data": {
      "text/plain": [
       "(   person_age  person_income person_home_ownership  person_emp_length  \\\n",
       " 0          22          59000                  RENT              123.0   \n",
       " 1          21           9600                   OWN                5.0   \n",
       " 2          25           9600              MORTGAGE                1.0   \n",
       " 3          23          65500                  RENT                4.0   \n",
       " 4          24          54400                  RENT                8.0   \n",
       " \n",
       "   loan_intent loan_grade  loan_amnt  loan_int_rate  loan_status  \\\n",
       " 0    PERSONAL          D      35000          16.02            1   \n",
       " 1   EDUCATION          B       1000          11.14            0   \n",
       " 2     MEDICAL          C       5500          12.87            1   \n",
       " 3     MEDICAL          C      35000          15.23            1   \n",
       " 4     MEDICAL          C      35000          14.27            1   \n",
       " \n",
       "    loan_percent_income cb_person_default_on_file  cb_person_cred_hist_length  \n",
       " 0                 0.59                         Y                           3  \n",
       " 1                 0.10                         N                           2  \n",
       " 2                 0.57                         N                           3  \n",
       " 3                 0.53                         N                           2  \n",
       " 4                 0.55                         Y                           4  ,\n",
       " None)"
      ]
     },
     "execution_count": 1,
     "metadata": {},
     "output_type": "execute_result"
    }
   ],
   "source": [
    "import pandas as pd\n",
    "\n",
    "credit_risk_data_path = 'credit_risk_dataset_workingon.csv'\n",
    "\n",
    "credit_risk_data = pd.read_csv(credit_risk_data_path)\n",
    "\n",
    "credit_risk_data_overview = credit_risk_data.head(), credit_risk_data.info()\n",
    "\n",
    "credit_risk_data_overview"
   ]
  },
  {
   "cell_type": "code",
   "execution_count": 2,
   "id": "a4596521-3496-40f9-b873-9898b4d3b901",
   "metadata": {
    "scrolled": true
   },
   "outputs": [
    {
     "data": {
      "text/plain": [
       "(person_age                       0\n",
       " person_income                    0\n",
       " person_home_ownership            0\n",
       " person_emp_length              895\n",
       " loan_intent                      0\n",
       " loan_grade                       0\n",
       " loan_amnt                        0\n",
       " loan_int_rate                 3116\n",
       " loan_status                      0\n",
       " loan_percent_income              0\n",
       " cb_person_default_on_file        0\n",
       " cb_person_cred_hist_length       0\n",
       " dtype: int64,\n",
       "          person_age  person_income  person_emp_length     loan_amnt  \\\n",
       " count  32581.000000   3.258100e+04       31686.000000  32581.000000   \n",
       " mean      27.734600   6.607485e+04           4.789686   9589.371106   \n",
       " std        6.348078   6.198312e+04           4.142630   6322.086646   \n",
       " min       20.000000   4.000000e+03           0.000000    500.000000   \n",
       " 25%       23.000000   3.850000e+04           2.000000   5000.000000   \n",
       " 50%       26.000000   5.500000e+04           4.000000   8000.000000   \n",
       " 75%       30.000000   7.920000e+04           7.000000  12200.000000   \n",
       " max      144.000000   6.000000e+06         123.000000  35000.000000   \n",
       " \n",
       "        loan_int_rate   loan_status  loan_percent_income  \\\n",
       " count   29465.000000  32581.000000         32581.000000   \n",
       " mean       11.011695      0.218164             0.170203   \n",
       " std         3.240459      0.413006             0.106782   \n",
       " min         5.420000      0.000000             0.000000   \n",
       " 25%         7.900000      0.000000             0.090000   \n",
       " 50%        10.990000      0.000000             0.150000   \n",
       " 75%        13.470000      0.000000             0.230000   \n",
       " max        23.220000      1.000000             0.830000   \n",
       " \n",
       "        cb_person_cred_hist_length  \n",
       " count                32581.000000  \n",
       " mean                     5.804211  \n",
       " std                      4.055001  \n",
       " min                      2.000000  \n",
       " 25%                      3.000000  \n",
       " 50%                      4.000000  \n",
       " 75%                      8.000000  \n",
       " max                     30.000000  )"
      ]
     },
     "execution_count": 2,
     "metadata": {},
     "output_type": "execute_result"
    }
   ],
   "source": [
    "missing_values_summary = credit_risk_data.isnull().sum()\n",
    "basic_statistics = credit_risk_data.describe()\n",
    "\n",
    "missing_values_summary, basic_statistics\n"
   ]
  },
  {
   "cell_type": "code",
   "execution_count": 3,
   "id": "bf778515-0437-4b8a-ad29-5aa1f339fad9",
   "metadata": {
    "scrolled": true
   },
   "outputs": [
    {
     "name": "stderr",
     "output_type": "stream",
     "text": [
      "C:\\Users\\RUSHIKESH\\AppData\\Local\\Temp\\ipykernel_18064\\1663813483.py:3: FutureWarning: A value is trying to be set on a copy of a DataFrame or Series through chained assignment using an inplace method.\n",
      "The behavior will change in pandas 3.0. This inplace method will never work because the intermediate object on which we are setting values always behaves as a copy.\n",
      "\n",
      "For example, when doing 'df[col].method(value, inplace=True)', try using 'df.method({col: value}, inplace=True)' or df[col] = df[col].method(value) instead, to perform the operation inplace on the original object.\n",
      "\n",
      "\n",
      "  credit_risk_data['person_emp_length'].fillna(credit_risk_data['person_emp_length'].median(), inplace=True)\n",
      "C:\\Users\\RUSHIKESH\\AppData\\Local\\Temp\\ipykernel_18064\\1663813483.py:6: FutureWarning: A value is trying to be set on a copy of a DataFrame or Series through chained assignment using an inplace method.\n",
      "The behavior will change in pandas 3.0. This inplace method will never work because the intermediate object on which we are setting values always behaves as a copy.\n",
      "\n",
      "For example, when doing 'df[col].method(value, inplace=True)', try using 'df.method({col: value}, inplace=True)' or df[col] = df[col].method(value) instead, to perform the operation inplace on the original object.\n",
      "\n",
      "\n",
      "  credit_risk_data['loan_int_rate'].fillna(credit_risk_data['loan_int_rate'].mean(), inplace=True)\n"
     ]
    },
    {
     "data": {
      "text/plain": [
       "person_age                    0\n",
       "person_income                 0\n",
       "person_home_ownership         0\n",
       "person_emp_length             0\n",
       "loan_intent                   0\n",
       "loan_grade                    0\n",
       "loan_amnt                     0\n",
       "loan_int_rate                 0\n",
       "loan_status                   0\n",
       "loan_percent_income           0\n",
       "cb_person_default_on_file     0\n",
       "cb_person_cred_hist_length    0\n",
       "dtype: int64"
      ]
     },
     "execution_count": 3,
     "metadata": {},
     "output_type": "execute_result"
    }
   ],
   "source": [
    "credit_risk_data['person_emp_length'].fillna(credit_risk_data['person_emp_length'].median(), inplace=True)\n",
    "\n",
    "# Imputing missing values for `loan_int_rate` with mean\n",
    "credit_risk_data['loan_int_rate'].fillna(credit_risk_data['loan_int_rate'].mean(), inplace=True)\n",
    "\n",
    "missing_values_after_imputation = credit_risk_data.isnull().sum()\n",
    "missing_values_after_imputation\n"
   ]
  },
  {
   "cell_type": "code",
   "execution_count": 4,
   "id": "65a8b180-c8eb-48b2-8dfb-db816ba9d3d6",
   "metadata": {
    "scrolled": true
   },
   "outputs": [
    {
     "name": "stdout",
     "output_type": "stream",
     "text": [
      "   person_age  person_income  person_home_ownership  person_emp_length  \\\n",
      "0          22      -0.114143                      3              123.0   \n",
      "1          21      -0.911147                      2                5.0   \n",
      "2          25      -0.911147                      0                1.0   \n",
      "3          23      -0.009274                      3                4.0   \n",
      "4          24      -0.188358                      3                8.0   \n",
      "\n",
      "   loan_intent  loan_grade  loan_amnt  loan_int_rate  loan_status  \\\n",
      "0            4           3   4.019404       1.625251            1   \n",
      "1            1           1  -1.358650       0.041636            0   \n",
      "2            3           2  -0.646849       0.603041            1   \n",
      "3            3           2   4.019404       1.368887            1   \n",
      "4            3           2   4.019404       1.057357            1   \n",
      "\n",
      "   loan_percent_income  cb_person_default_on_file  cb_person_cred_hist_length  \n",
      "0             3.931411                          1                           3  \n",
      "1            -0.657458                          0                           2  \n",
      "2             3.744110                          0                           3  \n",
      "3             3.369508                          0                           2  \n",
      "4             3.556809                          1                           4  \n"
     ]
    }
   ],
   "source": [
    "from sklearn.preprocessing import LabelEncoder, StandardScaler\n",
    "\n",
    "# Encoding categorical features\n",
    "label_encoders = {}\n",
    "categorical_columns = ['person_home_ownership', 'loan_intent', 'loan_grade', 'cb_person_default_on_file']\n",
    "\n",
    "for col in categorical_columns:\n",
    "    le = LabelEncoder()\n",
    "    credit_risk_data[col] = le.fit_transform(credit_risk_data[col])\n",
    "    label_encoders[col] = le\n",
    "\n",
    "# Scaling numerical features\n",
    "scaler = StandardScaler()\n",
    "numerical_columns = ['person_income', 'loan_amnt', 'loan_percent_income', 'loan_int_rate']\n",
    "credit_risk_data[numerical_columns] = scaler.fit_transform(credit_risk_data[numerical_columns])\n",
    "\n",
    "# Verify changes\n",
    "print(credit_risk_data.head())\n"
   ]
  },
  {
   "cell_type": "code",
   "execution_count": 5,
   "id": "4b3286ec-da2d-4be4-977a-afd993920b70",
   "metadata": {},
   "outputs": [
    {
     "name": "stdout",
     "output_type": "stream",
     "text": [
      "(26064, 11) (6517, 11) (26064,) (6517,)\n"
     ]
    }
   ],
   "source": [
    "from sklearn.model_selection import train_test_split\n",
    "from sklearn.preprocessing import StandardScaler\n",
    "\n",
    "# Separate features (X) and target variable (y)\n",
    "X = credit_risk_data.drop(columns=['loan_status'])\n",
    "y = credit_risk_data['loan_status']\n",
    "\n",
    "# Split the data into training and testing sets\n",
    "X_train, X_test, y_train, y_test = train_test_split(X, y, test_size=0.2, random_state=42)\n",
    "\n",
    "# Scale the numerical features\n",
    "scaler = StandardScaler()\n",
    "X_train = scaler.fit_transform(X_train)\n",
    "X_test = scaler.transform(X_test)\n",
    "\n",
    "# Verify the shape of training and testing sets\n",
    "print(X_train.shape, X_test.shape, y_train.shape, y_test.shape)\n",
    "\n"
   ]
  },
  {
   "cell_type": "code",
   "execution_count": 6,
   "id": "8a0e7d7f-1003-4c4c-9c49-7720a84d86bc",
   "metadata": {
    "scrolled": true
   },
   "outputs": [
    {
     "name": "stdout",
     "output_type": "stream",
     "text": [
      "Epoch 1/20\n"
     ]
    },
    {
     "name": "stderr",
     "output_type": "stream",
     "text": [
      "C:\\Users\\RUSHIKESH\\AppData\\Roaming\\Python\\Python312\\site-packages\\keras\\src\\layers\\core\\dense.py:86: UserWarning: Do not pass an `input_shape`/`input_dim` argument to a layer. When using Sequential models, prefer using an `Input(shape)` object as the first layer in the model instead.\n",
      "  super().__init__(activity_regularizer=activity_regularizer, **kwargs)\n"
     ]
    },
    {
     "name": "stdout",
     "output_type": "stream",
     "text": [
      "\u001b[1m815/815\u001b[0m \u001b[32m━━━━━━━━━━━━━━━━━━━━\u001b[0m\u001b[37m\u001b[0m \u001b[1m2s\u001b[0m 966us/step - accuracy: 0.8220 - loss: 0.4263 - val_accuracy: 0.8542 - val_loss: 0.3471\n",
      "Epoch 2/20\n",
      "\u001b[1m815/815\u001b[0m \u001b[32m━━━━━━━━━━━━━━━━━━━━\u001b[0m\u001b[37m\u001b[0m \u001b[1m1s\u001b[0m 821us/step - accuracy: 0.8666 - loss: 0.3343 - val_accuracy: 0.8680 - val_loss: 0.3266\n",
      "Epoch 3/20\n",
      "\u001b[1m815/815\u001b[0m \u001b[32m━━━━━━━━━━━━━━━━━━━━\u001b[0m\u001b[37m\u001b[0m \u001b[1m1s\u001b[0m 814us/step - accuracy: 0.8686 - loss: 0.3267 - val_accuracy: 0.8728 - val_loss: 0.3196\n",
      "Epoch 4/20\n",
      "\u001b[1m815/815\u001b[0m \u001b[32m━━━━━━━━━━━━━━━━━━━━\u001b[0m\u001b[37m\u001b[0m \u001b[1m1s\u001b[0m 820us/step - accuracy: 0.8734 - loss: 0.3159 - val_accuracy: 0.8776 - val_loss: 0.3084\n",
      "Epoch 5/20\n",
      "\u001b[1m815/815\u001b[0m \u001b[32m━━━━━━━━━━━━━━━━━━━━\u001b[0m\u001b[37m\u001b[0m \u001b[1m1s\u001b[0m 807us/step - accuracy: 0.8798 - loss: 0.3051 - val_accuracy: 0.8837 - val_loss: 0.2993\n",
      "Epoch 6/20\n",
      "\u001b[1m815/815\u001b[0m \u001b[32m━━━━━━━━━━━━━━━━━━━━\u001b[0m\u001b[37m\u001b[0m \u001b[1m1s\u001b[0m 842us/step - accuracy: 0.8811 - loss: 0.3064 - val_accuracy: 0.8841 - val_loss: 0.2968\n",
      "Epoch 7/20\n",
      "\u001b[1m815/815\u001b[0m \u001b[32m━━━━━━━━━━━━━━━━━━━━\u001b[0m\u001b[37m\u001b[0m \u001b[1m1s\u001b[0m 874us/step - accuracy: 0.8909 - loss: 0.2891 - val_accuracy: 0.8868 - val_loss: 0.2933\n",
      "Epoch 8/20\n",
      "\u001b[1m815/815\u001b[0m \u001b[32m━━━━━━━━━━━━━━━━━━━━\u001b[0m\u001b[37m\u001b[0m \u001b[1m1s\u001b[0m 814us/step - accuracy: 0.8898 - loss: 0.2867 - val_accuracy: 0.8895 - val_loss: 0.2872\n",
      "Epoch 9/20\n",
      "\u001b[1m815/815\u001b[0m \u001b[32m━━━━━━━━━━━━━━━━━━━━\u001b[0m\u001b[37m\u001b[0m \u001b[1m1s\u001b[0m 825us/step - accuracy: 0.8855 - loss: 0.2898 - val_accuracy: 0.8921 - val_loss: 0.2855\n",
      "Epoch 10/20\n",
      "\u001b[1m815/815\u001b[0m \u001b[32m━━━━━━━━━━━━━━━━━━━━\u001b[0m\u001b[37m\u001b[0m \u001b[1m1s\u001b[0m 812us/step - accuracy: 0.8949 - loss: 0.2795 - val_accuracy: 0.8921 - val_loss: 0.2838\n",
      "Epoch 11/20\n",
      "\u001b[1m815/815\u001b[0m \u001b[32m━━━━━━━━━━━━━━━━━━━━\u001b[0m\u001b[37m\u001b[0m \u001b[1m1s\u001b[0m 826us/step - accuracy: 0.8935 - loss: 0.2784 - val_accuracy: 0.8927 - val_loss: 0.2800\n",
      "Epoch 12/20\n",
      "\u001b[1m815/815\u001b[0m \u001b[32m━━━━━━━━━━━━━━━━━━━━\u001b[0m\u001b[37m\u001b[0m \u001b[1m1s\u001b[0m 813us/step - accuracy: 0.8959 - loss: 0.2769 - val_accuracy: 0.8961 - val_loss: 0.2808\n",
      "Epoch 13/20\n",
      "\u001b[1m815/815\u001b[0m \u001b[32m━━━━━━━━━━━━━━━━━━━━\u001b[0m\u001b[37m\u001b[0m \u001b[1m1s\u001b[0m 804us/step - accuracy: 0.8953 - loss: 0.2765 - val_accuracy: 0.8990 - val_loss: 0.2711\n",
      "Epoch 14/20\n",
      "\u001b[1m815/815\u001b[0m \u001b[32m━━━━━━━━━━━━━━━━━━━━\u001b[0m\u001b[37m\u001b[0m \u001b[1m1s\u001b[0m 811us/step - accuracy: 0.9015 - loss: 0.2707 - val_accuracy: 0.8969 - val_loss: 0.2739\n",
      "Epoch 15/20\n",
      "\u001b[1m815/815\u001b[0m \u001b[32m━━━━━━━━━━━━━━━━━━━━\u001b[0m\u001b[37m\u001b[0m \u001b[1m1s\u001b[0m 833us/step - accuracy: 0.9031 - loss: 0.2612 - val_accuracy: 0.8996 - val_loss: 0.2699\n",
      "Epoch 16/20\n",
      "\u001b[1m815/815\u001b[0m \u001b[32m━━━━━━━━━━━━━━━━━━━━\u001b[0m\u001b[37m\u001b[0m \u001b[1m1s\u001b[0m 820us/step - accuracy: 0.9028 - loss: 0.2672 - val_accuracy: 0.9007 - val_loss: 0.2664\n",
      "Epoch 17/20\n",
      "\u001b[1m815/815\u001b[0m \u001b[32m━━━━━━━━━━━━━━━━━━━━\u001b[0m\u001b[37m\u001b[0m \u001b[1m1s\u001b[0m 807us/step - accuracy: 0.9020 - loss: 0.2638 - val_accuracy: 0.9013 - val_loss: 0.2683\n",
      "Epoch 18/20\n",
      "\u001b[1m815/815\u001b[0m \u001b[32m━━━━━━━━━━━━━━━━━━━━\u001b[0m\u001b[37m\u001b[0m \u001b[1m1s\u001b[0m 808us/step - accuracy: 0.9063 - loss: 0.2589 - val_accuracy: 0.9035 - val_loss: 0.2634\n",
      "Epoch 19/20\n",
      "\u001b[1m815/815\u001b[0m \u001b[32m━━━━━━━━━━━━━━━━━━━━\u001b[0m\u001b[37m\u001b[0m \u001b[1m1s\u001b[0m 819us/step - accuracy: 0.9041 - loss: 0.2583 - val_accuracy: 0.9041 - val_loss: 0.2635\n",
      "Epoch 20/20\n",
      "\u001b[1m815/815\u001b[0m \u001b[32m━━━━━━━━━━━━━━━━━━━━\u001b[0m\u001b[37m\u001b[0m \u001b[1m1s\u001b[0m 815us/step - accuracy: 0.9027 - loss: 0.2625 - val_accuracy: 0.9033 - val_loss: 0.2621\n",
      "\u001b[1m204/204\u001b[0m \u001b[32m━━━━━━━━━━━━━━━━━━━━\u001b[0m\u001b[37m\u001b[0m \u001b[1m0s\u001b[0m 502us/step - accuracy: 0.9005 - loss: 0.2668\n",
      "Test Accuracy: 0.90\n"
     ]
    }
   ],
   "source": [
    "import tensorflow as tf\n",
    "from tensorflow.keras.models import Sequential\n",
    "from tensorflow.keras.layers import Dense, Dropout\n",
    "from tensorflow.keras.optimizers import Adam\n",
    "\n",
    "# Build the deep learning model\n",
    "model = Sequential()\n",
    "\n",
    "# Input layer\n",
    "model.add(Dense(64, activation='relu', input_shape=(X_train.shape[1],)))\n",
    "\n",
    "# Hidden layer\n",
    "model.add(Dense(32, activation='relu'))\n",
    "model.add(Dropout(0.3))  # Dropout to prevent overfitting\n",
    "\n",
    "# Output layer\n",
    "model.add(Dense(1, activation='sigmoid'))  # Sigmoid for binary classification\n",
    "\n",
    "# Compile the model\n",
    "model.compile(optimizer=Adam(learning_rate=0.001), loss='binary_crossentropy', metrics=['accuracy'])\n",
    "\n",
    "# Train the model\n",
    "history = model.fit(X_train, y_train, validation_data=(X_test, y_test), epochs=20, batch_size=32, verbose=1)\n",
    "\n",
    "# Evaluate the model on the test set\n",
    "test_loss, test_accuracy = model.evaluate(X_test, y_test)\n",
    "print(f\"Test Accuracy: {test_accuracy:.2f}\")\n"
   ]
  },
  {
   "cell_type": "code",
   "execution_count": 7,
   "id": "439cb596-ae83-4da3-9a5f-3b5b9d9ecf04",
   "metadata": {},
   "outputs": [
    {
     "name": "stdout",
     "output_type": "stream",
     "text": [
      "\u001b[1m204/204\u001b[0m \u001b[32m━━━━━━━━━━━━━━━━━━━━\u001b[0m\u001b[37m\u001b[0m \u001b[1m0s\u001b[0m 685us/step\n"
     ]
    },
    {
     "data": {
      "image/png": "[encoded data removed]",
      "text/plain": [
       "<Figure size 600x400 with 2 Axes>"
      ]
     },
     "metadata": {},
     "output_type": "display_data"
    },
    {
     "data": {
      "image/png": "[encoded data removed]",
      "text/plain": [
       "<Figure size 600x400 with 1 Axes>"
      ]
     },
     "metadata": {},
     "output_type": "display_data"
    },
    {
     "name": "stdout",
     "output_type": "stream",
     "text": [
      "AUC: 0.91\n"
     ]
    }
   ],
   "source": [
    "import matplotlib.pyplot as plt\n",
    "from sklearn.metrics import confusion_matrix, roc_curve, auc\n",
    "import seaborn as sns\n",
    "\n",
    "# Predict the probabilities\n",
    "y_pred_prob = model.predict(X_test)\n",
    "\n",
    "# Convert probabilities to class labels (threshold 0.5 for binary classification)\n",
    "y_pred = (y_pred_prob > 0.5).astype(int)\n",
    "\n",
    "# 1. Confusion Matrix\n",
    "cm = confusion_matrix(y_test, y_pred)\n",
    "\n",
    "# Plot Confusion Matrix\n",
    "plt.figure(figsize=(6, 4))\n",
    "sns.heatmap(cm, annot=True, fmt='d', cmap='Blues', xticklabels=['Non-default', 'Default'], yticklabels=['Non-default', 'Default'])\n",
    "plt.xlabel('Predicted')\n",
    "plt.ylabel('Actual')\n",
    "plt.title('Confusion Matrix')\n",
    "plt.show()\n",
    "\n",
    "# 2. ROC Curve and AUC\n",
    "fpr, tpr, thresholds = roc_curve(y_test, y_pred_prob)\n",
    "roc_auc = auc(fpr, tpr)\n",
    "\n",
    "# Plot ROC Curve\n",
    "plt.figure(figsize=(6, 4))\n",
    "plt.plot(fpr, tpr, color='darkorange', lw=2, label='ROC curve (AUC = %0.2f)' % roc_auc)\n",
    "plt.plot([0, 1], [0, 1], color='navy', lw=2, linestyle='--')\n",
    "plt.xlabel('False Positive Rate')\n",
    "plt.ylabel('True Positive Rate')\n",
    "plt.title('Receiver Operating Characteristic (ROC)')\n",
    "plt.legend(loc='lower right')\n",
    "plt.show()\n",
    "\n",
    "# Print AUC\n",
    "print(f\"AUC: {roc_auc:.2f}\")\n"
   ]
  },
  {
   "cell_type": "code",
   "execution_count": 8,
   "id": "c90d1db3-1171-4293-ba5f-de39b5371683",
   "metadata": {},
   "outputs": [
    {
     "name": "stdout",
     "output_type": "stream",
     "text": [
      "Model saved successfully in `.keras` format!\n"
     ]
    }
   ],
   "source": [
    "model.save(\"loan_default_model.keras\")\n",
    "print(\"Model saved successfully in `.keras` format!\")\n",
    "\n"
   ]
  },
  {
   "cell_type": "code",
   "execution_count": null,
   "id": "5f986a9d-2260-4e9b-ad20-4124f26ed2b0",
   "metadata": {},
   "outputs": [],
   "source": []
  }
 ],
 "metadata": {
  "kernelspec": {
   "display_name": "Python 3 (ipykernel)",
   "language": "python",
   "name": "python3"
  },
  "language_info": {
   "codemirror_mode": {
    "name": "ipython",
    "version": 3
   },
   "file_extension": ".py",
   "mimetype": "text/x-python",
   "name": "python",
   "nbconvert_exporter": "python",
   "pygments_lexer": "ipython3",
   "version": "3.12.1"
  }
 },
 "nbformat": 4,
 "nbformat_minor": 5
}
